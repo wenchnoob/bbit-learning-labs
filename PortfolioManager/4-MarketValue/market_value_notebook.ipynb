{
 "cells": [
  {
   "cell_type": "markdown",
   "metadata": {
    "pycharm": {
     "name": "#%% md\n"
    }
   },
   "source": [
    "```python\n",
    "# Copyright 2022 Bloomberg Finance L.P.\n",
    "#\n",
    "# Licensed under the Apache License, Version 2.0 (the \"License\");\n",
    "# you may not use this file except in compliance with the License.\n",
    "# You may obtain a copy of the License at\n",
    "#\n",
    "#     http://www.apache.org/licenses/LICENSE-2.0\n",
    "#\n",
    "# Unless required by applicable law or agreed to in writing, software\n",
    "# distributed under the License is distributed on an \"AS IS\" BASIS,\n",
    "# WITHOUT WARRANTIES OR CONDITIONS OF ANY KIND, either express or implied.\n",
    "# See the License for the specific language governing permissions and\n",
    "# limitations under the License.\n",
    "```\n",
    "\n",
    "# Market Value Item\n",
    "\n",
    "### What is market value?\n",
    "\n",
    "All of the previously discussed items have focused on different collections of securities (positions, accounts, and portfolios). Now we're going to take another step forward and discuss market value. Market value is generally the price that an asset of any type (e.g., equity, fixed income, derivatives, fx) would fetch in the marketplace. It is also the total value of the securities in which you hold a position. Depending on the security type, market value can be simple (i.e., for equities, the value of a unit is well-known) or more complex with various options (i.e., for derivatives, there are a few ways to determine and/or state what the market value of your position is).\n",
    "\n",
    "For our purpose we'll stick with simple market value calculations where market value is equal to some unit multiplier times your positions\n",
    "\n",
    "For example, you could have a position and current share price/unit market value like below:\n",
    "\n",
    "My position is ***2000*** shares of ***MSFT USD***. The current price of ***MSFT USD*** is ***19.00***. This gives my position a \n",
    "market value of **38,000 USD**!\n",
    "\n",
    "### Problem Definition\n",
    "\n",
    "We want to extend our classes to allow for querying of the market values for various securities at different levels of aggregation. We want this classes to have to the ability below functionality:\n",
    "\n",
    "***Security***\n",
    "- Query the current market value of the security\n",
    "\n",
    "***Positions*** \n",
    "- Query the current market value for the current position\n",
    "\n",
    "***Account***\n",
    "- Query the market value for a given set of security names or security objects. These objects should act as filters to what should be included in calculating the accounts net market value. Any securities not present in the account but the filter can be ignored\n",
    "- Query the market value for the entire account. This should return a net market value of all positions in the account.\n",
    "\n",
    "***Portfolio***\n",
    "- Query the market value for the entire portfolio. This requires that security market values be atomic in your calculation method per query.\n",
    "- Query the market value for a given set of securities/account combinations. If securities are present they should act as a filter on the accounts to be queried. If accounts are present they should act as a filter on the accounts under query. Handle scenarios where securities or accounts given aren't present without causing exceptions.\n",
    "- **Create tests for the above portfolio features**\n",
    "\n",
    "### Provided Tools\n",
    "\n",
    "#### *Data Source*\n",
    "\n",
    "To simulate prices, you can utilize the given class priceData which can be imported from generators.priceDataGenerator. This class is a singleton and will generate prices each time a query is given. These prices are stored internally in the class for testing in a replay mode. For a given security if the security name contains \"Equity\" or \"eqty\" (case insensitive) the market value will always be positive. To query the price of a security you can use the object's getCurrentPrice method. Below is an example of this\n",
    "\n",
    "```python\n",
    "#Data Souce\n",
    "from generators.priceDataGenerator import priceData\n",
    "\n",
    "pD = priceData()\n",
    "\n",
    "curPrice = pD.getCurrentPrice(\"IBM US Equity\")\n",
    "```\n",
    "\n",
    "#### *Solution Interface*\n",
    "\n",
    "The below interface show the new functionality you should add to your existing classes.\n",
    "\n",
    "```python\n",
    "#filename securityInterface.py\n",
    "#Security Class Interface\n",
    "class securityInterface():\n",
    "    #...\n",
    "    #Previous implementation above\n",
    "    def getCurrentMarketValue(self) -> float:\n",
    "```\n",
    "\n",
    "```python\n",
    "#filename positionInterface.py\n",
    "#Position Class Interface\n",
    "class positionInterface():\n",
    "    #...\n",
    "    #Previous implementation above\n",
    "    def getCurrentMarketValue(self) -> float:\n",
    "        pass\n",
    "```\n",
    "\n",
    "```python\n",
    "#filename accountInterface.py\n",
    "#Account Class Interface\n",
    "class accountInterface():\n",
    "    #...\n",
    "    #Previous implementation above\n",
    "    \n",
    "    def getCurrentMarketValue(self) -> float:\n",
    "        pass\n",
    "\n",
    "    def getCurrentFilteredMarketValue(self, securities: Set) -> float:\n",
    "        pass\n",
    "```\n",
    "\n",
    "```python\n",
    "#filename portfolioInterface.py\n",
    "#Portfolio Class Interface\n",
    "class portfolioInterface():\n",
    "    #...\n",
    "    #Previous implementation above\n",
    "    \n",
    "    def getCurrentMarketValue(self) -> dict:\n",
    "        pass\n",
    "\n",
    "    def getCurrentFilteredMarketValue(self, securities: Set, accountNames: Set[str]) -> float:\n",
    "        pass\n",
    "```\n",
    "\n",
    "#### *Testing*\n",
    "\n",
    "Once you have completed & saved your solution you can run the test file to validate that your solution works as expected. For the test to run the following need to be true.\n",
    "- Saved code to files to their respective .py's in the implementation folders. **Remember to copy the current implementation as saving will overwrite your previous implementation!** "
   ]
  },
  {
   "cell_type": "code",
   "execution_count": null,
   "metadata": {
    "pycharm": {
     "name": "#%%\n"
    }
   },
   "outputs": [],
   "source": []
  },
  {
   "cell_type": "code",
   "execution_count": 30,
   "metadata": {
    "pycharm": {
     "name": "#%%writefile ../implementations/securitySolution.py \n"
    }
   },
   "outputs": [
    {
     "name": "stdout",
     "output_type": "stream",
     "text": [
      "Overwriting ../implementations/securitySolution.py\n"
     ]
    }
   ],
   "source": [
    "%%writefile ../implementations/securitySolution.py\n",
    "#Uncomment line above & run cell to save solution\n",
    "#TODO Define class that implements securityInterface & allows for the management of a security\n",
    "\n",
    "from PortfolioManager.interfaces.securityInterface import securityInterface\n",
    "from PortfolioManager.generators.priceDataGenerator import priceData\n",
    "\n",
    "pD = priceData()\n",
    "\n",
    "class security(securityInterface):\n",
    "    def __init__(self, name: str) -> None:\n",
    "        super().__init__(name)\n",
    "        self.name = name\n",
    "\n",
    "    #Return the security's name\n",
    "    def getName(self) -> str:\n",
    "        return self.name\n",
    "\n",
    "    #Return the current security's market value\n",
    "    def getCurrentMarketValue(self) -> float:\n",
    "        return pD.getCurrentPrice(self.name)\n",
    "\n",
    "    def __str__(self):\n",
    "        return f'(name={self.name}, value=None)'\n"
   ]
  },
  {
   "cell_type": "code",
   "execution_count": null,
   "metadata": {
    "pycharm": {
     "name": "#%%\n"
    }
   },
   "outputs": [],
   "source": []
  },
  {
   "cell_type": "code",
   "execution_count": 31,
   "metadata": {
    "pycharm": {
     "name": "#%%writefile ../implementations/positionSolution.py \n"
    }
   },
   "outputs": [
    {
     "name": "stdout",
     "output_type": "stream",
     "text": [
      "Overwriting ../implementations/positionSolution.py\n"
     ]
    }
   ],
   "source": [
    "%%writefile ../implementations/positionSolution.py\n",
    "#Uncomment line above & run cell to save solution\n",
    "#TODO Define class that implements positionInterface & allows for the management of a position\n",
    "from PortfolioManager.implementations.securitySolution import security\n",
    "from PortfolioManager.interfaces.positionInterface import positionInterface\n",
    "from PortfolioManager.interfaces.securityInterface import securityInterface\n",
    "\n",
    "class position(positionInterface):\n",
    "    def __init__(self, _security, initialPosition: int) -> None:\n",
    "        if isinstance(_security, str):\n",
    "            self.security = security(_security)\n",
    "        else:\n",
    "            self.security = _security\n",
    "        self.setPosition(initialPosition)\n",
    "\n",
    "    def getSecurity(self) -> securityInterface:\n",
    "        return self.security\n",
    "\n",
    "    def getPosition(self) -> int:\n",
    "        return self.position\n",
    "\n",
    "    def setPosition(self, inputValue: int) -> None:\n",
    "        if inputValue < 0:\n",
    "            raise Exception('Input value cannot be negative.')\n",
    "        self.position = inputValue\n",
    "\n",
    "    def addPosition(self, inputValue: int) -> None:\n",
    "        if self.position + inputValue < 0:\n",
    "            raise Exception('Input value cannot be negative.')\n",
    "        self.position += inputValue\n",
    "\n",
    "    def getCurrentMarketValue(self):\n",
    "        return self.security.getCurrentMarketValue() * self.position\n"
   ]
  },
  {
   "cell_type": "code",
   "execution_count": null,
   "metadata": {
    "pycharm": {
     "name": "#%%\n"
    }
   },
   "outputs": [],
   "source": []
  },
  {
   "cell_type": "code",
   "execution_count": 36,
   "metadata": {
    "pycharm": {
     "name": "#%%writefile ../implementations/accountSolution.py \n"
    }
   },
   "outputs": [
    {
     "name": "stdout",
     "output_type": "stream",
     "text": [
      "Overwriting ../implementations/accountSolution.py\n"
     ]
    }
   ],
   "source": [
    "%%writefile ../implementations/accountSolution.py\n",
    "#Uncomment line above & run cell to save solution\n",
    "#TODO Define class that implements accountInterface & allows for the management of an account\n",
    "\n",
    "from PortfolioManager.interfaces.positionInterface import positionInterface\n",
    "from typing import Set, Iterable, Dict, Any\n",
    "from PortfolioManager.interfaces.accountInterface import accountInterface\n",
    "from PortfolioManager.interfaces.securityInterface import securityInterface\n",
    "\n",
    "class account(accountInterface):\n",
    "    def __init__(self, positions: Set[positionInterface], accountName: str):\n",
    "        super().__init__(positions, accountName)\n",
    "        self.name = accountName\n",
    "        self.positions = {pos.getSecurity().getName(): pos for pos in positions}\n",
    "\n",
    "    def getName(self) -> str:\n",
    "        return self.name\n",
    "\n",
    "    def getAllPositions(self) -> Iterable[positionInterface]:\n",
    "        return self.positions.values()\n",
    "\n",
    "    def getPositions(self, securities: Set) -> Dict[Any, positionInterface]:\n",
    "        return {pos.getSecurity().getName() : pos.getSecurity() for pos in self.positions\n",
    "                if pos.getSecurity().getName() in [x.getName() for x in securities]}\n",
    "\n",
    "    def addPositions(self, positions: Set[positionInterface]) -> None:\n",
    "        for position in positions:\n",
    "            self.positions[position.getSecurity().getName()] = position\n",
    "\n",
    "    def removePositions(self, securities: Set) -> None:\n",
    "        for security in securities:\n",
    "            if security.getName() in self.positions:\n",
    "                del self.positions[security.getName()]\n",
    "\n",
    "    def getCurrentFilteredMarketValue(self, securitiesList):\n",
    "        value = 0\n",
    "\n",
    "        if securitiesList is not None and len(securitiesList) > 0:\n",
    "            securitiesList = [sec.getName() if isinstance(sec, securityInterface) else sec for sec in securitiesList]\n",
    "            for position in self.positions.values():\n",
    "                if position.getSecurity().getName() not in securitiesList:\n",
    "                    continue\n",
    "                value += position.getCurrentMarketValue()\n",
    "        else:\n",
    "            for position in self.positions.values():\n",
    "                value += position.getCurrentMarketValue()\n",
    "\n",
    "        return value\n",
    "\n",
    "    def getCurrentMarketValue(self):\n",
    "        return self.getCurrentFilteredMarketValue([pos.getSecurity().getName() for pos in self.positions.values()])\n"
   ]
  },
  {
   "cell_type": "code",
   "execution_count": null,
   "outputs": [],
   "source": [],
   "metadata": {
    "collapsed": false,
    "pycharm": {
     "name": "#%%\n"
    }
   }
  },
  {
   "cell_type": "code",
   "execution_count": 37,
   "outputs": [
    {
     "name": "stdout",
     "output_type": "stream",
     "text": [
      "Overwriting ../implementations/portfolioSolution.py\n"
     ]
    }
   ],
   "source": [
    "%%writefile ../implementations/portfolioSolution.py\n",
    "#Uncomment line above & run cell to save solution\n",
    "#TODO Define class that implements portFolioInterface & allows for the management of a portfolio\n",
    "\n",
    "from typing import Set, Iterable\n",
    "from PortfolioManager.interfaces.accountInterface import accountInterface\n",
    "from PortfolioManager.interfaces.securityInterface import securityInterface\n",
    "from PortfolioManager.interfaces.portfolioInterface import portfolioInterface\n",
    "\n",
    "class portfolio(portfolioInterface):\n",
    "    def __init__(self, portfolioName: str, accounts: Set[accountInterface]) -> None:\n",
    "        self.name = portfolioName\n",
    "        self.accounts = {account.getName() : account for account in accounts}\n",
    "\n",
    "    def getName(self):\n",
    "        return self.name\n",
    "\n",
    "    def getAllAccounts(self) -> Iterable[accountInterface]:\n",
    "        return self.accounts.values()\n",
    "\n",
    "    def getAccounts(self, accountNamesFilter:Set[str], securitiesFilter:Set) -> Iterable[accountInterface]:\n",
    "        ret = [account for account in self.accounts.values()]\n",
    "\n",
    "        if accountNamesFilter is not None and len(accountNamesFilter) > 0:\n",
    "            ret = [account for account in ret if account.getName() in accountNamesFilter]\n",
    "\n",
    "        if securitiesFilter is not None and len(securitiesFilter) > 0:\n",
    "            ret = [account for account in ret if self._allMatches(account, securitiesFilter) ]\n",
    "\n",
    "        print(accountNamesFilter, securitiesFilter, [account.getName() for account in ret])\n",
    "        return ret\n",
    "\n",
    "    def _allMatches(self, account, securitiesFilter):\n",
    "        securities = [position.getSecurity().getName() for position in account.getAllPositions()]\n",
    "        for name in securitiesFilter:\n",
    "            if name not in securities:\n",
    "                return False\n",
    "        return True\n",
    "\n",
    "    def addAccounts(self, accounts: Set[accountInterface]) -> None:\n",
    "        for account in accounts:\n",
    "            self.accounts[account.getName()] = account\n",
    "\n",
    "    def removeAccounts(self, accountNames: Set[str]) -> None:\n",
    "        for account in accountNames:\n",
    "            if account in self.accounts:\n",
    "                del self.accounts[account]\n",
    "\n",
    "    def getCurrentMarketValue(self):\n",
    "        cache = {}\n",
    "\n",
    "        value = 0\n",
    "        for account in self.accounts.values():\n",
    "             for position in account.getAllPositions().values():\n",
    "                security = position.getSecurity()\n",
    "                name = security.getName()\n",
    "                if name not in cache:\n",
    "                    cache[name] = security.getCurrentMarketValue()\n",
    "                value += cache[name] * position.getPosition()\n",
    "        return value\n",
    "\n",
    "        pass"
   ],
   "metadata": {
    "collapsed": false,
    "pycharm": {
     "name": "#%%writefile ../implementations/portfolioSolution.py \n"
    }
   }
  },
  {
   "cell_type": "code",
   "execution_count": 38,
   "outputs": [],
   "source": [
    "#%conda install ipytest\n",
    "#%pip install ipytest\n",
    "import ipytest\n",
    "\n",
    "ipytest.autoconfig()"
   ],
   "metadata": {
    "collapsed": false,
    "pycharm": {
     "name": "#%%\n"
    }
   }
  },
  {
   "cell_type": "code",
   "execution_count": 39,
   "outputs": [
    {
     "name": "stdout",
     "output_type": "stream",
     "text": [
      "\u001B[32m.\u001B[0m\u001B[32m.\u001B[0m\u001B[32m.\u001B[0m\u001B[32m.\u001B[0m\u001B[32m                                                                                         [100%]\u001B[0m\n"
     ]
    }
   ],
   "source": [
    "%%ipytest -qq\n",
    "import pytest\n",
    "from PortfolioManager.implementations import securitySolution\n",
    "from PortfolioManager.implementations import positionSolution\n",
    "from PortfolioManager.implementations import accountSolution\n",
    "from PortfolioManager.generators.priceDataGenerator import priceData\n",
    "import importlib\n",
    "importlib.reload(securitySolution)\n",
    "importlib.reload(positionSolution)\n",
    "importlib.reload(accountSolution)\n",
    "\n",
    "def test_securityValueGather():\n",
    "    #GIVEN\n",
    "    SECURITY_NAME = \"TSLA US Equity\"\n",
    "    DATA_SOURCE = priceData()\n",
    "    DATA_SOURCE.clearPriceHistory()\n",
    "\n",
    "    #WHEN\n",
    "    testObj = securitySolution.security(SECURITY_NAME)\n",
    "    currentPrice = testObj.getCurrentMarketValue()\n",
    "\n",
    "    #EXPECT\n",
    "    assert currentPrice == DATA_SOURCE.getSecurityPriceDataList(SECURITY_NAME)[-1]\n",
    "\n",
    "def test_PositionMarketValue():\n",
    "    #GIVEN\n",
    "    EXPECTED_NAME = \"IBM US Equity\"\n",
    "    EXPECTED_POSITION_AMOUNT = 1000\n",
    "    DATA_SOURCE = priceData()\n",
    "    DATA_SOURCE.clearPriceHistory()\n",
    "\n",
    "    #WHEN\n",
    "    testObj = positionSolution.position(EXPECTED_NAME, EXPECTED_POSITION_AMOUNT)\n",
    "    MV = testObj.getCurrentMarketValue()\n",
    "    LASTEST_EXPECTED_MV = EXPECTED_POSITION_AMOUNT * DATA_SOURCE.getSecurityPriceDataList(EXPECTED_NAME)[-1]\n",
    "\n",
    "    #EXPECT\n",
    "    assert (LASTEST_EXPECTED_MV == MV)\n",
    "\n",
    "def test_SecuritySearchAccountMV():\n",
    "    #GIVEN\n",
    "    DATA_SOURCE = priceData()\n",
    "    DATA_SOURCE.clearPriceHistory()\n",
    "    EXPECTED_ACCOUNT_POSITIONS = [\n",
    "        positionSolution.position(\"IBM US Equity\", 530),\n",
    "        positionSolution.position(\"TSLA US Equity\", 1120),\n",
    "        positionSolution.position(\"NVDA US Equity\", 7421)\n",
    "    ]\n",
    "    SEARCH_SECURITIES_LIST =  [\"IBM US Equity\", securitySolution.security(\"NVDA US Equity\"), \"MSFT US Equity\"]\n",
    "    SEARCH_SECURITIES_TUPLE = [[\"IBM US Equity\", 530], [\"NVDA US Equity\", 7421]]\n",
    "    testObj = accountSolution.account(EXPECTED_ACCOUNT_POSITIONS, \"Test Account\")\n",
    "\n",
    "    #WHEN\n",
    "    MV = testObj.getCurrentFilteredMarketValue(SEARCH_SECURITIES_LIST)\n",
    "    EXPECTED_MV = 0\n",
    "    for secTuple in SEARCH_SECURITIES_TUPLE:\n",
    "        if secTuple[1] != 0:\n",
    "            EXPECTED_MV +=  secTuple[1] * DATA_SOURCE.getSecurityPriceDataList(secTuple[0])[-1]\n",
    "    #EXPECT\n",
    "    assert (EXPECTED_MV == MV)\n",
    "\n",
    "def test_TotalAccountMV():\n",
    "    #GIVEN\n",
    "    EXPECTED_ACCOUNT_POSITIONS = [\n",
    "        positionSolution.position(\"IBM US Equity\", 530),\n",
    "        positionSolution.position(\"TSLA US Equity\", 1120),\n",
    "        positionSolution.position(\"NVDA US Equity\", 7421)\n",
    "    ]\n",
    "    DATA_SOURCE = priceData()\n",
    "    DATA_SOURCE.clearPriceHistory()\n",
    "    testObj = accountSolution.account(EXPECTED_ACCOUNT_POSITIONS, \"Test Account\")\n",
    "\n",
    "    #WHEN\n",
    "    MV = testObj.getCurrentMarketValue()\n",
    "    EXPECTED_MV = 0\n",
    "    for pos in EXPECTED_ACCOUNT_POSITIONS:\n",
    "        EXPECTED_MV += pos.getPosition() * DATA_SOURCE.getSecurityPriceDataList(pos.getSecurity().getName())[-1]\n",
    "    #EXPECT\n",
    "    assert (EXPECTED_MV == MV)\n",
    "\n",
    "#TODO Portfolio MV Tests"
   ],
   "metadata": {
    "collapsed": false,
    "pycharm": {
     "name": "#%%\n"
    }
   }
  },
  {
   "cell_type": "code",
   "execution_count": null,
   "outputs": [],
   "source": [],
   "metadata": {
    "collapsed": false,
    "pycharm": {
     "name": "#%%\n"
    }
   }
  }
 ],
 "metadata": {
  "interpreter": {
   "hash": "52ec483333d104506d0166a5e1a3a81d439925bc785c98fcacdf773296fc358c"
  },
  "kernelspec": {
   "display_name": "Python 3.9.7 ('base')",
   "language": "python",
   "name": "python3"
  },
  "language_info": {
   "codemirror_mode": {
    "name": "ipython",
    "version": 3
   },
   "file_extension": ".py",
   "mimetype": "text/x-python",
   "name": "python",
   "nbconvert_exporter": "python",
   "pygments_lexer": "ipython3",
   "version": "3.9.7"
  },
  "orig_nbformat": 4
 },
 "nbformat": 4,
 "nbformat_minor": 2
}